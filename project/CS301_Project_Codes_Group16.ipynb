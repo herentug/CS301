{
  "nbformat": 4,
  "nbformat_minor": 0,
  "metadata": {
    "colab": {
      "name": "CS301_Project_Group17_codes.ipynb",
      "provenance": [],
      "collapsed_sections": [],
      "machine_shape": "hm"
    },
    "kernelspec": {
      "name": "python3",
      "display_name": "Python 3"
    },
    "accelerator": "GPU"
  },
  "cells": [
    {
      "cell_type": "markdown",
      "metadata": {
        "id": "98Z6yUYLrKEM",
        "colab_type": "text"
      },
      "source": [
        "**exactSubsetSum approximateSubsetSum, and their helper functions**"
      ]
    },
    {
      "cell_type": "code",
      "metadata": {
        "id": "5R3vroTzKkyC",
        "colab_type": "code",
        "colab": {}
      },
      "source": [
        "# returns the list of integers derived from L by increasing each element of L by number.\n",
        "def plus(l,number): \n",
        "\tli=l \n",
        "\tn=len(li)\n",
        "\tfor i in range(0,n):\n",
        "\t\tli[i]+=number\n",
        "\treturn li\n",
        "\n",
        "#returns the sorted list that is the merge of its two sorted input lists L and L0 with duplicate values removed. \n",
        "def mergeLists(li1,li2):\n",
        "\tx1=0\n",
        "\tx2=0\n",
        "\tret=[]\n",
        "\tn1=len(li1)\n",
        "\tn2=len(li2)\n",
        "\twhile(x1!=n1+1 and x2!=n2+1):\n",
        "\t\tif(x1==n1):\n",
        "\t\t\tret = [*ret, *li2[x2:n2]]\n",
        "\t\t\tbreak\n",
        "\t\tif(x2==n2):\n",
        "\t\t\tret = [*ret, *li1[x1:n1]]\n",
        "\t\t\tbreak\n",
        "\n",
        "\t\tif(li1[x1]<=li2[x2]):\n",
        "\t\t\tret.append(li1[x1])\n",
        "\t\t\tx1+=1\n",
        "\t\telse:\n",
        "\t\t\tret.append(li2[x2])\n",
        "\t\t\tx2+=1\n",
        "\treturn ret\n",
        "\n",
        "#remove each element in list li that is larger than t\n",
        "def removeEach(li,t):\n",
        "    n=len(li)\n",
        "    ret=[]\n",
        "    for i in li:\n",
        "        if(i<=t):\n",
        "            ret.append(i)\t\n",
        "    li=ret \n",
        "    return li\n",
        "\n",
        "def exactSubsetSum(li,t):\n",
        "\tn=len(li)\n",
        "\tL=[[]]*(n+1)\n",
        "\tL[0]=[0]\n",
        "\tfor i in range(1,n+1):\n",
        "\t\tL[i]=mergeLists(L[i-1].copy(),plus(L[i-1].copy(),li[i-1]))\n",
        "\t\tremoved =removeEach(L[i],t) \n",
        "\t\tL[i] = removed\n",
        "\treturn max(L[n])\n",
        "\n",
        "def trim(L,delta): # delta: the trim rate \n",
        "\tn=len(L)\n",
        "\tL2=[L[0]]\n",
        "\tlast=L[0]\n",
        "\tfor i in range(1,n):\n",
        "\t\tif(L[i]>last*(1+delta)):\n",
        "\t\t\tL2.append(L[i])\n",
        "\t\t\tlast=L[i]\n",
        "\treturn L2\n",
        "\n",
        "def appSubSet(S,t,e):\n",
        "    n=len(S)\n",
        "    L=[[]]*(n+1)\n",
        "    L[0]=[0]\n",
        "    for i in range(1,n+1):\n",
        "        L[i]=mergeLists(L[i-1].copy(),plus(L[i-1].copy(),S[i-1]))\n",
        "        L[i]=trim(L[i],e/(2*n))\n",
        "        removed = removeEach(L[i],t)\n",
        "        L[i] = removed\n",
        "    return max(L[n])\n"
      ],
      "execution_count": 0,
      "outputs": []
    },
    {
      "cell_type": "code",
      "metadata": {
        "id": "nNl8SfmDNPBz",
        "colab_type": "code",
        "outputId": "a83294f0-374d-42ea-b87b-f7a3e4df66e2",
        "colab": {
          "base_uri": "https://localhost:8080/",
          "height": 50
        }
      },
      "source": [
        "#sample run\n",
        "S=[]\n",
        "e=0.0\n",
        "t=0\n",
        "\n",
        "\n",
        "\n",
        "print( \"T is :\",t)\n",
        "print( \"Real Subset Sum Alg. result: \",appSubSet(S,t,e) )\n"
      ],
      "execution_count": 0,
      "outputs": [
        {
          "output_type": "stream",
          "text": [
            "T is : 0\n",
            "Real Subset Sum Alg. result:  0\n"
          ],
          "name": "stdout"
        }
      ]
    },
    {
      "cell_type": "markdown",
      "metadata": {
        "id": "rJxFp8Ybe9eu",
        "colab_type": "text"
      },
      "source": [
        "\n",
        "# we should create random sets with different sizes and with different ranges\n",
        "# the magnitude/size of the numbers (not only set itself) matter as well for runtime"
      ]
    },
    {
      "cell_type": "code",
      "metadata": {
        "id": "S5FVA4Zgp7fB",
        "colab_type": "code",
        "colab": {}
      },
      "source": [
        "#FUNCTIONS FOR PREPARING TESTING DATA \n",
        "import numpy as np\n",
        "import random\n",
        "from random import sample\n",
        "import pandas as pd\n",
        "import time\n",
        "import random\n",
        "\n",
        "\n",
        "def createRandomSubsetAndSum(S):\n",
        "  subset_size=random.randint(2,len(S)) # |S| is trivial, so we do not consider\n",
        "  subset=sample(S,subset_size)\n",
        "  subset_sum=sum(subset)\n",
        "  return subset, subset_sum\n",
        "\n",
        "def checkHeuristicResult(S,t,e,subset):\n",
        "  start_time = time.time()\n",
        "  approx=appSubSet(S,t,e)\n",
        "  execution_time= time.time() - start_time\n",
        "  if (approx==t):\n",
        "    success=True\n",
        "    error=0\n",
        "  else:\n",
        "    success=False\n",
        "    error= (t-approx)/t\n",
        "  return approx,success,error,execution_time\n",
        "\n",
        "\n",
        "def correctnessforSListAndE(SList,e):\n",
        "  df=pd.DataFrame(columns=['S', 'setSize','subset', 't','e', 'approx', 'isSuccess','error','execution_time'])\n",
        "  for S in SList:\n",
        "    subset, t = createRandomSubsetAndSum(S)\n",
        "    #print(\"in CfSLAndE\\n\")\n",
        "    approx,isSuccess,error,execution_time= checkHeuristicResult(S,t,e,subset)\n",
        "    new_row = {'S':S , 'setSize': len(S),'subset':subset,'t':t, 'e':e, 'approx':approx, 'isSuccess':isSuccess,'error':error,'execution_time': execution_time}\n",
        "    df = df.append(new_row, ignore_index=True)\n",
        "  return df \n",
        "\n",
        "\n",
        "def correctnessforSList(SList):\n",
        "  #e_values=[0.4, 0.5]\n",
        "  e_values= np.linspace(0,1,10,endpoint=False)\n",
        "  # e_values is : array([ 0. ,  0.1,  0.2,  0.3,  0.4,  0.5,  0.6,  0.7,  0.8,  0.9])\n",
        "  df_total=pd.DataFrame(columns=['S', 'setSize','subset', 't','e', 'approx', 'isSuccess','error','execution_time'])\n",
        "\n",
        "  for e in e_values:\n",
        "    df_e= correctnessforSListAndE(SList,e)\n",
        "    df_total = df_total.append(df_e)\n",
        "  return df_total\n",
        "\n",
        "\n",
        "\n",
        "def createRandomSubsets(number_of_samples,set_size,set_range):\n",
        "    n_set=[] # we will append n many(50) lists to show that   \n",
        "    for i in range(0,number_of_samples): #produce 50 many set\n",
        "        a_set=[]\n",
        "        for j in range(0,set_size):\n",
        "          elt=random.randint(1,set_range)\n",
        "          while(elt in a_set): # elements of set must be unique\n",
        "            elt=random.randint(0,set_range)\n",
        "          a_set.append(elt)\n",
        "        n_set.append(a_set)\n",
        "    return n_set\n"
      ],
      "execution_count": 0,
      "outputs": []
    },
    {
      "cell_type": "code",
      "metadata": {
        "id": "dreHD8ioftD0",
        "colab_type": "code",
        "colab": {}
      },
      "source": [
        "#Blacbox Testing\n",
        "def Testing():\n",
        "  #range [1,100]\n",
        "  set1_1_5_100= createRandomSubsets(1,5,100) # 1 set with |S|=5 and in range [1,100]\n",
        "  set_1_20_100= createRandomSubsets(1,20,100) # 1 set with |S|=20 and in range [1,100]\n",
        "  sets_1_40_100= createRandomSubsets(1,40,100) # 1 set with |S|=40 and in range [1,100]\n",
        "  #range [1,1000]\n",
        "  sets_1_5_1000= createRandomSubsets(1,5,1000)# 1 set with |S|=5 and in range [1,1000]\n",
        "  sets_1_20_1000= createRandomSubsets(1,20,1000)# 1 set with |S|=20 and in range [1,1000]\n",
        "  sets_1_100_1000= createRandomSubsets(1,100,1000) # 1 set with |S|=100 and in range [1,1000]\n",
        "  #range [1,10000]\n",
        "  sets_1_5_10000= createRandomSubsets(1,5,10000)# 1 set with |S|=5 and in range [1,10000]\n",
        "  sets_1_20_10000= createRandomSubsets(1,20,10000)# 1 set with |S|=20 and in range [1,10000]\n",
        "  sets_1_100_10000= createRandomSubsets(1,100,10000) # 1 set with |S|=100 and in range [1,10000]\n",
        "  sets_1_1000_10000= createRandomSubsets(1,1000,10000) # 1 set with |S|=1000 and in range [1,10000]\n",
        "  df1 = correctnessforSList(set1_1_5_100)\n",
        "  df2 = correctnessforSList(set_1_20_100)\n",
        "  df3 = correctnessforSList(sets_1_40_100)\n",
        "  df4 = correctnessforSList(sets_1_5_1000)\n",
        "  df5 = correctnessforSList(sets_1_20_1000)\n",
        "  df6 = correctnessforSList(sets_1_100_10000)\n",
        "  df7 = correctnessforSList(sets_1_5_10000)\n",
        "  df8 = correctnessforSList(sets_1_20_10000)\n",
        "  df9 = correctnessforSList(sets_1_100_10000)\n",
        "  df10 = correctnessforSList(sets_1_1000_10000)\n",
        "  df_result = df1.append(df2).append(df3).append(df4).append(df5).append(df6).append(df7).append(df8).append(d10)\n",
        "  return df_result\n",
        "\n",
        "\n",
        "\n",
        "\n",
        "    \n",
        "\n",
        "\n",
        "\n",
        "\n"
      ],
      "execution_count": 0,
      "outputs": []
    },
    {
      "cell_type": "code",
      "metadata": {
        "id": "zdNMuKlIlOt7",
        "colab_type": "code",
        "outputId": "81eb605e-506b-4714-cf96-cb0f76f66dbe",
        "colab": {
          "base_uri": "https://localhost:8080/",
          "height": 307
        }
      },
      "source": [
        "df_test = Testing()"
      ],
      "execution_count": 0,
      "outputs": [
        {
          "output_type": "error",
          "ename": "KeyboardInterrupt",
          "evalue": "ignored",
          "traceback": [
            "\u001b[0;31m---------------------------------------------------------------------------\u001b[0m",
            "\u001b[0;31mKeyboardInterrupt\u001b[0m                         Traceback (most recent call last)",
            "\u001b[0;32m<ipython-input-5-cf5fd2928f81>\u001b[0m in \u001b[0;36m<module>\u001b[0;34m()\u001b[0m\n\u001b[0;32m----> 1\u001b[0;31m \u001b[0mdf_test\u001b[0m \u001b[0;34m=\u001b[0m \u001b[0mTesting\u001b[0m\u001b[0;34m(\u001b[0m\u001b[0;34m)\u001b[0m\u001b[0;34m\u001b[0m\u001b[0;34m\u001b[0m\u001b[0m\n\u001b[0m",
            "\u001b[0;32m<ipython-input-4-ab7d2aa52022>\u001b[0m in \u001b[0;36mTesting\u001b[0;34m()\u001b[0m\n\u001b[1;32m     19\u001b[0m   \u001b[0mdf4\u001b[0m \u001b[0;34m=\u001b[0m \u001b[0mcorrectnessforSList\u001b[0m\u001b[0;34m(\u001b[0m\u001b[0msets_1_5_1000\u001b[0m\u001b[0;34m)\u001b[0m\u001b[0;34m\u001b[0m\u001b[0;34m\u001b[0m\u001b[0m\n\u001b[1;32m     20\u001b[0m   \u001b[0mdf5\u001b[0m \u001b[0;34m=\u001b[0m \u001b[0mcorrectnessforSList\u001b[0m\u001b[0;34m(\u001b[0m\u001b[0msets_1_20_1000\u001b[0m\u001b[0;34m)\u001b[0m\u001b[0;34m\u001b[0m\u001b[0;34m\u001b[0m\u001b[0m\n\u001b[0;32m---> 21\u001b[0;31m   \u001b[0mdf6\u001b[0m \u001b[0;34m=\u001b[0m \u001b[0mcorrectnessforSList\u001b[0m\u001b[0;34m(\u001b[0m\u001b[0msets_1_100_10000\u001b[0m\u001b[0;34m)\u001b[0m\u001b[0;34m\u001b[0m\u001b[0;34m\u001b[0m\u001b[0m\n\u001b[0m\u001b[1;32m     22\u001b[0m   \u001b[0mdf7\u001b[0m \u001b[0;34m=\u001b[0m \u001b[0mcorrectnessforSList\u001b[0m\u001b[0;34m(\u001b[0m\u001b[0msets_1_5_10000\u001b[0m\u001b[0;34m)\u001b[0m\u001b[0;34m\u001b[0m\u001b[0;34m\u001b[0m\u001b[0m\n\u001b[1;32m     23\u001b[0m   \u001b[0mdf8\u001b[0m \u001b[0;34m=\u001b[0m \u001b[0mcorrectnessforSList\u001b[0m\u001b[0;34m(\u001b[0m\u001b[0msets_1_20_10000\u001b[0m\u001b[0;34m)\u001b[0m\u001b[0;34m\u001b[0m\u001b[0;34m\u001b[0m\u001b[0m\n",
            "\u001b[0;32m<ipython-input-3-e6676e2af19e>\u001b[0m in \u001b[0;36mcorrectnessforSList\u001b[0;34m(SList)\u001b[0m\n\u001b[1;32m     44\u001b[0m \u001b[0;34m\u001b[0m\u001b[0m\n\u001b[1;32m     45\u001b[0m   \u001b[0;32mfor\u001b[0m \u001b[0me\u001b[0m \u001b[0;32min\u001b[0m \u001b[0me_values\u001b[0m\u001b[0;34m:\u001b[0m\u001b[0;34m\u001b[0m\u001b[0;34m\u001b[0m\u001b[0m\n\u001b[0;32m---> 46\u001b[0;31m     \u001b[0mdf_e\u001b[0m\u001b[0;34m=\u001b[0m \u001b[0mcorrectnessforSListAndE\u001b[0m\u001b[0;34m(\u001b[0m\u001b[0mSList\u001b[0m\u001b[0;34m,\u001b[0m\u001b[0me\u001b[0m\u001b[0;34m)\u001b[0m\u001b[0;34m\u001b[0m\u001b[0;34m\u001b[0m\u001b[0m\n\u001b[0m\u001b[1;32m     47\u001b[0m     \u001b[0mdf_total\u001b[0m \u001b[0;34m=\u001b[0m \u001b[0mdf_total\u001b[0m\u001b[0;34m.\u001b[0m\u001b[0mappend\u001b[0m\u001b[0;34m(\u001b[0m\u001b[0mdf_e\u001b[0m\u001b[0;34m)\u001b[0m\u001b[0;34m\u001b[0m\u001b[0;34m\u001b[0m\u001b[0m\n\u001b[1;32m     48\u001b[0m   \u001b[0;32mreturn\u001b[0m \u001b[0mdf_total\u001b[0m\u001b[0;34m\u001b[0m\u001b[0;34m\u001b[0m\u001b[0m\n",
            "\u001b[0;32m<ipython-input-3-e6676e2af19e>\u001b[0m in \u001b[0;36mcorrectnessforSListAndE\u001b[0;34m(SList, e)\u001b[0m\n\u001b[1;32m     31\u001b[0m     \u001b[0msubset\u001b[0m\u001b[0;34m,\u001b[0m \u001b[0mt\u001b[0m \u001b[0;34m=\u001b[0m \u001b[0mcreateRandomSubsetAndSum\u001b[0m\u001b[0;34m(\u001b[0m\u001b[0mS\u001b[0m\u001b[0;34m)\u001b[0m\u001b[0;34m\u001b[0m\u001b[0;34m\u001b[0m\u001b[0m\n\u001b[1;32m     32\u001b[0m     \u001b[0;31m#print(\"in CfSLAndE\\n\")\u001b[0m\u001b[0;34m\u001b[0m\u001b[0;34m\u001b[0m\u001b[0;34m\u001b[0m\u001b[0m\n\u001b[0;32m---> 33\u001b[0;31m     \u001b[0mapprox\u001b[0m\u001b[0;34m,\u001b[0m\u001b[0misSuccess\u001b[0m\u001b[0;34m,\u001b[0m\u001b[0merror\u001b[0m\u001b[0;34m,\u001b[0m\u001b[0mexecution_time\u001b[0m\u001b[0;34m=\u001b[0m \u001b[0mcheckHeuristicResult\u001b[0m\u001b[0;34m(\u001b[0m\u001b[0mS\u001b[0m\u001b[0;34m,\u001b[0m\u001b[0mt\u001b[0m\u001b[0;34m,\u001b[0m\u001b[0me\u001b[0m\u001b[0;34m,\u001b[0m\u001b[0msubset\u001b[0m\u001b[0;34m)\u001b[0m\u001b[0;34m\u001b[0m\u001b[0;34m\u001b[0m\u001b[0m\n\u001b[0m\u001b[1;32m     34\u001b[0m     \u001b[0mnew_row\u001b[0m \u001b[0;34m=\u001b[0m \u001b[0;34m{\u001b[0m\u001b[0;34m'S'\u001b[0m\u001b[0;34m:\u001b[0m\u001b[0mS\u001b[0m \u001b[0;34m,\u001b[0m \u001b[0;34m'setSize'\u001b[0m\u001b[0;34m:\u001b[0m \u001b[0mlen\u001b[0m\u001b[0;34m(\u001b[0m\u001b[0mS\u001b[0m\u001b[0;34m)\u001b[0m\u001b[0;34m,\u001b[0m\u001b[0;34m'subset'\u001b[0m\u001b[0;34m:\u001b[0m\u001b[0msubset\u001b[0m\u001b[0;34m,\u001b[0m\u001b[0;34m't'\u001b[0m\u001b[0;34m:\u001b[0m\u001b[0mt\u001b[0m\u001b[0;34m,\u001b[0m \u001b[0;34m'e'\u001b[0m\u001b[0;34m:\u001b[0m\u001b[0me\u001b[0m\u001b[0;34m,\u001b[0m \u001b[0;34m'approx'\u001b[0m\u001b[0;34m:\u001b[0m\u001b[0mapprox\u001b[0m\u001b[0;34m,\u001b[0m \u001b[0;34m'isSuccess'\u001b[0m\u001b[0;34m:\u001b[0m\u001b[0misSuccess\u001b[0m\u001b[0;34m,\u001b[0m\u001b[0;34m'error'\u001b[0m\u001b[0;34m:\u001b[0m\u001b[0merror\u001b[0m\u001b[0;34m,\u001b[0m\u001b[0;34m'execution_time'\u001b[0m\u001b[0;34m:\u001b[0m \u001b[0mexecution_time\u001b[0m\u001b[0;34m}\u001b[0m\u001b[0;34m\u001b[0m\u001b[0;34m\u001b[0m\u001b[0m\n\u001b[1;32m     35\u001b[0m     \u001b[0mdf\u001b[0m \u001b[0;34m=\u001b[0m \u001b[0mdf\u001b[0m\u001b[0;34m.\u001b[0m\u001b[0mappend\u001b[0m\u001b[0;34m(\u001b[0m\u001b[0mnew_row\u001b[0m\u001b[0;34m,\u001b[0m \u001b[0mignore_index\u001b[0m\u001b[0;34m=\u001b[0m\u001b[0;32mTrue\u001b[0m\u001b[0;34m)\u001b[0m\u001b[0;34m\u001b[0m\u001b[0;34m\u001b[0m\u001b[0m\n",
            "\u001b[0;32m<ipython-input-3-e6676e2af19e>\u001b[0m in \u001b[0;36mcheckHeuristicResult\u001b[0;34m(S, t, e, subset)\u001b[0m\n\u001b[1;32m     15\u001b[0m \u001b[0;32mdef\u001b[0m \u001b[0mcheckHeuristicResult\u001b[0m\u001b[0;34m(\u001b[0m\u001b[0mS\u001b[0m\u001b[0;34m,\u001b[0m\u001b[0mt\u001b[0m\u001b[0;34m,\u001b[0m\u001b[0me\u001b[0m\u001b[0;34m,\u001b[0m\u001b[0msubset\u001b[0m\u001b[0;34m)\u001b[0m\u001b[0;34m:\u001b[0m\u001b[0;34m\u001b[0m\u001b[0;34m\u001b[0m\u001b[0m\n\u001b[1;32m     16\u001b[0m   \u001b[0mstart_time\u001b[0m \u001b[0;34m=\u001b[0m \u001b[0mtime\u001b[0m\u001b[0;34m.\u001b[0m\u001b[0mtime\u001b[0m\u001b[0;34m(\u001b[0m\u001b[0;34m)\u001b[0m\u001b[0;34m\u001b[0m\u001b[0;34m\u001b[0m\u001b[0m\n\u001b[0;32m---> 17\u001b[0;31m   \u001b[0mapprox\u001b[0m\u001b[0;34m=\u001b[0m\u001b[0mappSubSet\u001b[0m\u001b[0;34m(\u001b[0m\u001b[0mS\u001b[0m\u001b[0;34m,\u001b[0m\u001b[0mt\u001b[0m\u001b[0;34m,\u001b[0m\u001b[0me\u001b[0m\u001b[0;34m)\u001b[0m\u001b[0;34m\u001b[0m\u001b[0;34m\u001b[0m\u001b[0m\n\u001b[0m\u001b[1;32m     18\u001b[0m   \u001b[0mexecution_time\u001b[0m\u001b[0;34m=\u001b[0m \u001b[0mtime\u001b[0m\u001b[0;34m.\u001b[0m\u001b[0mtime\u001b[0m\u001b[0;34m(\u001b[0m\u001b[0;34m)\u001b[0m \u001b[0;34m-\u001b[0m \u001b[0mstart_time\u001b[0m\u001b[0;34m\u001b[0m\u001b[0;34m\u001b[0m\u001b[0m\n\u001b[1;32m     19\u001b[0m   \u001b[0;32mif\u001b[0m \u001b[0;34m(\u001b[0m\u001b[0mapprox\u001b[0m\u001b[0;34m==\u001b[0m\u001b[0mt\u001b[0m\u001b[0;34m)\u001b[0m\u001b[0;34m:\u001b[0m\u001b[0;34m\u001b[0m\u001b[0;34m\u001b[0m\u001b[0m\n",
            "\u001b[0;32m<ipython-input-1-de8783a951c4>\u001b[0m in \u001b[0;36mappSubSet\u001b[0;34m(S, t, e)\u001b[0m\n\u001b[1;32m     65\u001b[0m     \u001b[0;32mfor\u001b[0m \u001b[0mi\u001b[0m \u001b[0;32min\u001b[0m \u001b[0mrange\u001b[0m\u001b[0;34m(\u001b[0m\u001b[0;36m1\u001b[0m\u001b[0;34m,\u001b[0m\u001b[0mn\u001b[0m\u001b[0;34m+\u001b[0m\u001b[0;36m1\u001b[0m\u001b[0;34m)\u001b[0m\u001b[0;34m:\u001b[0m\u001b[0;34m\u001b[0m\u001b[0;34m\u001b[0m\u001b[0m\n\u001b[1;32m     66\u001b[0m         \u001b[0mL\u001b[0m\u001b[0;34m[\u001b[0m\u001b[0mi\u001b[0m\u001b[0;34m]\u001b[0m\u001b[0;34m=\u001b[0m\u001b[0mmergeLists\u001b[0m\u001b[0;34m(\u001b[0m\u001b[0mL\u001b[0m\u001b[0;34m[\u001b[0m\u001b[0mi\u001b[0m\u001b[0;34m-\u001b[0m\u001b[0;36m1\u001b[0m\u001b[0;34m]\u001b[0m\u001b[0;34m.\u001b[0m\u001b[0mcopy\u001b[0m\u001b[0;34m(\u001b[0m\u001b[0;34m)\u001b[0m\u001b[0;34m,\u001b[0m\u001b[0mplus\u001b[0m\u001b[0;34m(\u001b[0m\u001b[0mL\u001b[0m\u001b[0;34m[\u001b[0m\u001b[0mi\u001b[0m\u001b[0;34m-\u001b[0m\u001b[0;36m1\u001b[0m\u001b[0;34m]\u001b[0m\u001b[0;34m.\u001b[0m\u001b[0mcopy\u001b[0m\u001b[0;34m(\u001b[0m\u001b[0;34m)\u001b[0m\u001b[0;34m,\u001b[0m\u001b[0mS\u001b[0m\u001b[0;34m[\u001b[0m\u001b[0mi\u001b[0m\u001b[0;34m-\u001b[0m\u001b[0;36m1\u001b[0m\u001b[0;34m]\u001b[0m\u001b[0;34m)\u001b[0m\u001b[0;34m)\u001b[0m\u001b[0;34m\u001b[0m\u001b[0;34m\u001b[0m\u001b[0m\n\u001b[0;32m---> 67\u001b[0;31m         \u001b[0mL\u001b[0m\u001b[0;34m[\u001b[0m\u001b[0mi\u001b[0m\u001b[0;34m]\u001b[0m\u001b[0;34m=\u001b[0m\u001b[0mtrim\u001b[0m\u001b[0;34m(\u001b[0m\u001b[0mL\u001b[0m\u001b[0;34m[\u001b[0m\u001b[0mi\u001b[0m\u001b[0;34m]\u001b[0m\u001b[0;34m,\u001b[0m\u001b[0me\u001b[0m\u001b[0;34m/\u001b[0m\u001b[0;34m(\u001b[0m\u001b[0;36m2\u001b[0m\u001b[0;34m*\u001b[0m\u001b[0mn\u001b[0m\u001b[0;34m)\u001b[0m\u001b[0;34m)\u001b[0m\u001b[0;34m\u001b[0m\u001b[0;34m\u001b[0m\u001b[0m\n\u001b[0m\u001b[1;32m     68\u001b[0m         \u001b[0mremoved\u001b[0m \u001b[0;34m=\u001b[0m \u001b[0mremoveEach\u001b[0m\u001b[0;34m(\u001b[0m\u001b[0mL\u001b[0m\u001b[0;34m[\u001b[0m\u001b[0mi\u001b[0m\u001b[0;34m]\u001b[0m\u001b[0;34m,\u001b[0m\u001b[0mt\u001b[0m\u001b[0;34m)\u001b[0m\u001b[0;34m\u001b[0m\u001b[0;34m\u001b[0m\u001b[0m\n\u001b[1;32m     69\u001b[0m         \u001b[0mL\u001b[0m\u001b[0;34m[\u001b[0m\u001b[0mi\u001b[0m\u001b[0;34m]\u001b[0m \u001b[0;34m=\u001b[0m \u001b[0mremoved\u001b[0m\u001b[0;34m\u001b[0m\u001b[0;34m\u001b[0m\u001b[0m\n",
            "\u001b[0;32m<ipython-input-1-de8783a951c4>\u001b[0m in \u001b[0;36mtrim\u001b[0;34m(L, delta)\u001b[0m\n\u001b[1;32m     54\u001b[0m         \u001b[0mlast\u001b[0m\u001b[0;34m=\u001b[0m\u001b[0mL\u001b[0m\u001b[0;34m[\u001b[0m\u001b[0;36m0\u001b[0m\u001b[0;34m]\u001b[0m\u001b[0;34m\u001b[0m\u001b[0;34m\u001b[0m\u001b[0m\n\u001b[1;32m     55\u001b[0m         \u001b[0;32mfor\u001b[0m \u001b[0mi\u001b[0m \u001b[0;32min\u001b[0m \u001b[0mrange\u001b[0m\u001b[0;34m(\u001b[0m\u001b[0;36m1\u001b[0m\u001b[0;34m,\u001b[0m\u001b[0mn\u001b[0m\u001b[0;34m)\u001b[0m\u001b[0;34m:\u001b[0m\u001b[0;34m\u001b[0m\u001b[0;34m\u001b[0m\u001b[0m\n\u001b[0;32m---> 56\u001b[0;31m                 \u001b[0;32mif\u001b[0m\u001b[0;34m(\u001b[0m\u001b[0mL\u001b[0m\u001b[0;34m[\u001b[0m\u001b[0mi\u001b[0m\u001b[0;34m]\u001b[0m\u001b[0;34m>\u001b[0m\u001b[0mlast\u001b[0m\u001b[0;34m*\u001b[0m\u001b[0;34m(\u001b[0m\u001b[0;36m1\u001b[0m\u001b[0;34m+\u001b[0m\u001b[0mdelta\u001b[0m\u001b[0;34m)\u001b[0m\u001b[0;34m)\u001b[0m\u001b[0;34m:\u001b[0m\u001b[0;34m\u001b[0m\u001b[0;34m\u001b[0m\u001b[0m\n\u001b[0m\u001b[1;32m     57\u001b[0m                         \u001b[0mL2\u001b[0m\u001b[0;34m.\u001b[0m\u001b[0mappend\u001b[0m\u001b[0;34m(\u001b[0m\u001b[0mL\u001b[0m\u001b[0;34m[\u001b[0m\u001b[0mi\u001b[0m\u001b[0;34m]\u001b[0m\u001b[0;34m)\u001b[0m\u001b[0;34m\u001b[0m\u001b[0;34m\u001b[0m\u001b[0m\n\u001b[1;32m     58\u001b[0m                         \u001b[0mlast\u001b[0m\u001b[0;34m=\u001b[0m\u001b[0mL\u001b[0m\u001b[0;34m[\u001b[0m\u001b[0mi\u001b[0m\u001b[0;34m]\u001b[0m\u001b[0;34m\u001b[0m\u001b[0;34m\u001b[0m\u001b[0m\n",
            "\u001b[0;31mKeyboardInterrupt\u001b[0m: "
          ]
        }
      ]
    },
    {
      "cell_type": "code",
      "metadata": {
        "id": "VW8qNnepli3U",
        "colab_type": "code",
        "colab": {}
      },
      "source": [
        "df_test.to_excel(\"TestResults_all.xlsx\")"
      ],
      "execution_count": 0,
      "outputs": []
    },
    {
      "cell_type": "code",
      "metadata": {
        "id": "DsBI71Dt47Lo",
        "colab_type": "code",
        "colab": {}
      },
      "source": [
        "# sadece 1 set için bile 10 dk filan sürüyor ortalama \n",
        "#caghan_test_sets=createRandomSubsets(1,1000,10000)\n",
        "#df= correctnessforSList(caghan_test_sets)\n",
        "#df.to_csv(\"caghan_test_sets_size_1000_range_10000.csv\")"
      ],
      "execution_count": 0,
      "outputs": []
    },
    {
      "cell_type": "code",
      "metadata": {
        "id": "2RbSt7oz6XfF",
        "colab_type": "code",
        "colab": {}
      },
      "source": [
        ""
      ],
      "execution_count": 0,
      "outputs": []
    },
    {
      "cell_type": "code",
      "metadata": {
        "id": "Kcp0WppOywy5",
        "colab_type": "code",
        "colab": {}
      },
      "source": [
        "#CREATING RANDOM SAMPLES FOR ANALYSIS AND TESTING\n",
        "# DON'T TAKE SO MUCH TIME\n",
        "\n",
        "#range [1,100]\n",
        "sets_50_5_100= createRandomSubsets(50,5,100) # 50 set with |S|=5 and in range [1,100]\n",
        "sets_50_10_100= createRandomSubsets(50,10,100) # 50 set with |S|=10 and in range [1,100]\n",
        "sets_50_20_100= createRandomSubsets(50,20,100) # 50 set with |S|=20 and in range [1,100]\n",
        "sets_50_40_100= createRandomSubsets(50,40,100) # 50 set with |S|=40 and in range [1,100]\n",
        "sets_50_80_100=createRandomSubsets(50,80,100) \n",
        "\n",
        "#range [1,1000]\n",
        "sets_50_5_1000= createRandomSubsets(50,5,1000)# 50 set with |S|=5 and in range [1,1000]\n",
        "sets_50_10_1000= createRandomSubsets(50,10,1000)# 50 set with |S|=10 and in range [1,1000]\n",
        "sets_50_20_1000= createRandomSubsets(50,20,1000)# 50 set with |S|=20 and in range [1,1000]\n",
        "sets_50_100_1000= createRandomSubsets(50,100,1000) # 50 set with |S|=100 and in range [1,1000]\n",
        "\n",
        "#range [1,10000]\n",
        "sets_50_5_10000= createRandomSubsets(50,5,10000)# 50 set with |S|=5 and in range [1,10000]\n",
        "sets_50_10_10000= createRandomSubsets(50,10,10000)# 50 set with |S|=10 and in range [1,10000]\n",
        "sets_50_20_10000= createRandomSubsets(50,20,10000)# 50 set with |S|=20 and in range [1,10000]\n",
        "sets_50_100_10000= createRandomSubsets(50,100,10000) # 50 set with |S|=100 and in range [1,10000]\n",
        "sets_50_1000_10000= createRandomSubsets(50,1000,10000) # 50 set with |S|=100 and in range [1,10000]"
      ],
      "execution_count": 0,
      "outputs": []
    },
    {
      "cell_type": "code",
      "metadata": {
        "id": "lkIGqS_NwfIf",
        "colab_type": "code",
        "colab": {}
      },
      "source": [
        "#CREATING EXPERIMENTING PHASE FOR RANE [1,100]\n",
        "\n",
        "df_50_5_100= correctnessforSList(sets_50_5_100)\n",
        "df_50_10_100=correctnessforSList(sets_50_10_100)\n",
        "df_50_20_100=correctnessforSList(sets_50_20_100)\n",
        "df_50_40_100=correctnessforSList(sets_50_40_100)\n",
        "df_50_80_100=correctnessforSList(sets_50_80_100)\n",
        "\n"
      ],
      "execution_count": 0,
      "outputs": []
    },
    {
      "cell_type": "code",
      "metadata": {
        "id": "SxxIOIw2nekV",
        "colab_type": "code",
        "outputId": "34e27994-e74a-4e29-88dc-cda6c6f59678",
        "colab": {
          "base_uri": "https://localhost:8080/",
          "height": 419
        }
      },
      "source": [
        "df_50_5_100"
      ],
      "execution_count": 0,
      "outputs": [
        {
          "output_type": "execute_result",
          "data": {
            "text/html": [
              "<div>\n",
              "<style scoped>\n",
              "    .dataframe tbody tr th:only-of-type {\n",
              "        vertical-align: middle;\n",
              "    }\n",
              "\n",
              "    .dataframe tbody tr th {\n",
              "        vertical-align: top;\n",
              "    }\n",
              "\n",
              "    .dataframe thead th {\n",
              "        text-align: right;\n",
              "    }\n",
              "</style>\n",
              "<table border=\"1\" class=\"dataframe\">\n",
              "  <thead>\n",
              "    <tr style=\"text-align: right;\">\n",
              "      <th></th>\n",
              "      <th>S</th>\n",
              "      <th>setSize</th>\n",
              "      <th>subset</th>\n",
              "      <th>t</th>\n",
              "      <th>e</th>\n",
              "      <th>approx</th>\n",
              "      <th>isSuccess</th>\n",
              "      <th>error</th>\n",
              "      <th>execution_time</th>\n",
              "    </tr>\n",
              "  </thead>\n",
              "  <tbody>\n",
              "    <tr>\n",
              "      <th>0</th>\n",
              "      <td>[72, 25, 91, 97, 58]</td>\n",
              "      <td>5</td>\n",
              "      <td>[58, 97, 25, 91]</td>\n",
              "      <td>271</td>\n",
              "      <td>0.0</td>\n",
              "      <td>271</td>\n",
              "      <td>True</td>\n",
              "      <td>0</td>\n",
              "      <td>0.000078</td>\n",
              "    </tr>\n",
              "    <tr>\n",
              "      <th>1</th>\n",
              "      <td>[3, 50, 94, 89, 4]</td>\n",
              "      <td>5</td>\n",
              "      <td>[4, 3, 94, 50]</td>\n",
              "      <td>151</td>\n",
              "      <td>0.0</td>\n",
              "      <td>151</td>\n",
              "      <td>True</td>\n",
              "      <td>0</td>\n",
              "      <td>0.000076</td>\n",
              "    </tr>\n",
              "    <tr>\n",
              "      <th>2</th>\n",
              "      <td>[98, 82, 30, 35, 3]</td>\n",
              "      <td>5</td>\n",
              "      <td>[35, 82, 30]</td>\n",
              "      <td>147</td>\n",
              "      <td>0.0</td>\n",
              "      <td>147</td>\n",
              "      <td>True</td>\n",
              "      <td>0</td>\n",
              "      <td>0.000067</td>\n",
              "    </tr>\n",
              "    <tr>\n",
              "      <th>3</th>\n",
              "      <td>[58, 65, 38, 71, 78]</td>\n",
              "      <td>5</td>\n",
              "      <td>[65, 38]</td>\n",
              "      <td>103</td>\n",
              "      <td>0.0</td>\n",
              "      <td>103</td>\n",
              "      <td>True</td>\n",
              "      <td>0</td>\n",
              "      <td>0.000057</td>\n",
              "    </tr>\n",
              "    <tr>\n",
              "      <th>4</th>\n",
              "      <td>[23, 25, 54, 29, 59]</td>\n",
              "      <td>5</td>\n",
              "      <td>[23, 29, 54]</td>\n",
              "      <td>106</td>\n",
              "      <td>0.0</td>\n",
              "      <td>106</td>\n",
              "      <td>True</td>\n",
              "      <td>0</td>\n",
              "      <td>0.000073</td>\n",
              "    </tr>\n",
              "    <tr>\n",
              "      <th>...</th>\n",
              "      <td>...</td>\n",
              "      <td>...</td>\n",
              "      <td>...</td>\n",
              "      <td>...</td>\n",
              "      <td>...</td>\n",
              "      <td>...</td>\n",
              "      <td>...</td>\n",
              "      <td>...</td>\n",
              "      <td>...</td>\n",
              "    </tr>\n",
              "    <tr>\n",
              "      <th>45</th>\n",
              "      <td>[85, 41, 4, 92, 3]</td>\n",
              "      <td>5</td>\n",
              "      <td>[85, 3, 41, 92]</td>\n",
              "      <td>221</td>\n",
              "      <td>0.9</td>\n",
              "      <td>218</td>\n",
              "      <td>False</td>\n",
              "      <td>0.0135747</td>\n",
              "      <td>0.000065</td>\n",
              "    </tr>\n",
              "    <tr>\n",
              "      <th>46</th>\n",
              "      <td>[24, 13, 14, 68, 19]</td>\n",
              "      <td>5</td>\n",
              "      <td>[68, 19, 14]</td>\n",
              "      <td>101</td>\n",
              "      <td>0.9</td>\n",
              "      <td>92</td>\n",
              "      <td>False</td>\n",
              "      <td>0.0891089</td>\n",
              "      <td>0.000066</td>\n",
              "    </tr>\n",
              "    <tr>\n",
              "      <th>47</th>\n",
              "      <td>[20, 48, 53, 86, 40]</td>\n",
              "      <td>5</td>\n",
              "      <td>[86, 53, 20, 48, 40]</td>\n",
              "      <td>247</td>\n",
              "      <td>0.9</td>\n",
              "      <td>227</td>\n",
              "      <td>False</td>\n",
              "      <td>0.0809717</td>\n",
              "      <td>0.000073</td>\n",
              "    </tr>\n",
              "    <tr>\n",
              "      <th>48</th>\n",
              "      <td>[65, 30, 62, 41, 9]</td>\n",
              "      <td>5</td>\n",
              "      <td>[30, 62, 65]</td>\n",
              "      <td>157</td>\n",
              "      <td>0.9</td>\n",
              "      <td>157</td>\n",
              "      <td>True</td>\n",
              "      <td>0</td>\n",
              "      <td>0.000081</td>\n",
              "    </tr>\n",
              "    <tr>\n",
              "      <th>49</th>\n",
              "      <td>[16, 33, 35, 88, 38]</td>\n",
              "      <td>5</td>\n",
              "      <td>[35, 33, 88, 16, 38]</td>\n",
              "      <td>210</td>\n",
              "      <td>0.9</td>\n",
              "      <td>194</td>\n",
              "      <td>False</td>\n",
              "      <td>0.0761905</td>\n",
              "      <td>0.000083</td>\n",
              "    </tr>\n",
              "  </tbody>\n",
              "</table>\n",
              "<p>500 rows × 9 columns</p>\n",
              "</div>"
            ],
            "text/plain": [
              "                       S setSize  ...      error execution_time\n",
              "0   [72, 25, 91, 97, 58]       5  ...          0       0.000078\n",
              "1     [3, 50, 94, 89, 4]       5  ...          0       0.000076\n",
              "2    [98, 82, 30, 35, 3]       5  ...          0       0.000067\n",
              "3   [58, 65, 38, 71, 78]       5  ...          0       0.000057\n",
              "4   [23, 25, 54, 29, 59]       5  ...          0       0.000073\n",
              "..                   ...     ...  ...        ...            ...\n",
              "45    [85, 41, 4, 92, 3]       5  ...  0.0135747       0.000065\n",
              "46  [24, 13, 14, 68, 19]       5  ...  0.0891089       0.000066\n",
              "47  [20, 48, 53, 86, 40]       5  ...  0.0809717       0.000073\n",
              "48   [65, 30, 62, 41, 9]       5  ...          0       0.000081\n",
              "49  [16, 33, 35, 88, 38]       5  ...  0.0761905       0.000083\n",
              "\n",
              "[500 rows x 9 columns]"
            ]
          },
          "metadata": {
            "tags": []
          },
          "execution_count": 6
        }
      ]
    },
    {
      "cell_type": "code",
      "metadata": {
        "id": "Id7t-c0UqgzZ",
        "colab_type": "code",
        "colab": {}
      },
      "source": [
        "# MERGING EXPERIMENT RESULTS FOR EASIER ANALYSIS\n",
        "#TAKES LONG TIME (3-4 MINS for [1,100])\n",
        "\n",
        "df_range100 =pd.DataFrame(columns=['S', 'setSize','subset', 't','e', 'approx', 'isSuccess','error','execution_time'])\n",
        "df_range100_list=[df_50_5_100,df_50_10_100,df_50_20_100,df_50_40_100,df_50_80_100]\n",
        "for df in df_range100_list:\n",
        "  df_range100=df_range100.append(df)\n",
        "\n"
      ],
      "execution_count": 0,
      "outputs": []
    },
    {
      "cell_type": "code",
      "metadata": {
        "id": "XHh6uvjay3li",
        "colab_type": "code",
        "outputId": "6b6ecc35-2404-44aa-b667-5ca282df87b2",
        "colab": {
          "base_uri": "https://localhost:8080/",
          "height": 204
        }
      },
      "source": [
        "df_range100.head()"
      ],
      "execution_count": 0,
      "outputs": [
        {
          "output_type": "execute_result",
          "data": {
            "text/html": [
              "<div>\n",
              "<style scoped>\n",
              "    .dataframe tbody tr th:only-of-type {\n",
              "        vertical-align: middle;\n",
              "    }\n",
              "\n",
              "    .dataframe tbody tr th {\n",
              "        vertical-align: top;\n",
              "    }\n",
              "\n",
              "    .dataframe thead th {\n",
              "        text-align: right;\n",
              "    }\n",
              "</style>\n",
              "<table border=\"1\" class=\"dataframe\">\n",
              "  <thead>\n",
              "    <tr style=\"text-align: right;\">\n",
              "      <th></th>\n",
              "      <th>S</th>\n",
              "      <th>setSize</th>\n",
              "      <th>subset</th>\n",
              "      <th>t</th>\n",
              "      <th>e</th>\n",
              "      <th>approx</th>\n",
              "      <th>isSuccess</th>\n",
              "      <th>error</th>\n",
              "      <th>execution_time</th>\n",
              "    </tr>\n",
              "  </thead>\n",
              "  <tbody>\n",
              "    <tr>\n",
              "      <th>0</th>\n",
              "      <td>[72, 25, 91, 97, 58]</td>\n",
              "      <td>5</td>\n",
              "      <td>[58, 97, 25, 91]</td>\n",
              "      <td>271</td>\n",
              "      <td>0.0</td>\n",
              "      <td>271</td>\n",
              "      <td>True</td>\n",
              "      <td>0</td>\n",
              "      <td>0.000078</td>\n",
              "    </tr>\n",
              "    <tr>\n",
              "      <th>1</th>\n",
              "      <td>[3, 50, 94, 89, 4]</td>\n",
              "      <td>5</td>\n",
              "      <td>[4, 3, 94, 50]</td>\n",
              "      <td>151</td>\n",
              "      <td>0.0</td>\n",
              "      <td>151</td>\n",
              "      <td>True</td>\n",
              "      <td>0</td>\n",
              "      <td>0.000076</td>\n",
              "    </tr>\n",
              "    <tr>\n",
              "      <th>2</th>\n",
              "      <td>[98, 82, 30, 35, 3]</td>\n",
              "      <td>5</td>\n",
              "      <td>[35, 82, 30]</td>\n",
              "      <td>147</td>\n",
              "      <td>0.0</td>\n",
              "      <td>147</td>\n",
              "      <td>True</td>\n",
              "      <td>0</td>\n",
              "      <td>0.000067</td>\n",
              "    </tr>\n",
              "    <tr>\n",
              "      <th>3</th>\n",
              "      <td>[58, 65, 38, 71, 78]</td>\n",
              "      <td>5</td>\n",
              "      <td>[65, 38]</td>\n",
              "      <td>103</td>\n",
              "      <td>0.0</td>\n",
              "      <td>103</td>\n",
              "      <td>True</td>\n",
              "      <td>0</td>\n",
              "      <td>0.000057</td>\n",
              "    </tr>\n",
              "    <tr>\n",
              "      <th>4</th>\n",
              "      <td>[23, 25, 54, 29, 59]</td>\n",
              "      <td>5</td>\n",
              "      <td>[23, 29, 54]</td>\n",
              "      <td>106</td>\n",
              "      <td>0.0</td>\n",
              "      <td>106</td>\n",
              "      <td>True</td>\n",
              "      <td>0</td>\n",
              "      <td>0.000073</td>\n",
              "    </tr>\n",
              "  </tbody>\n",
              "</table>\n",
              "</div>"
            ],
            "text/plain": [
              "                      S setSize  ... error execution_time\n",
              "0  [72, 25, 91, 97, 58]       5  ...     0       0.000078\n",
              "1    [3, 50, 94, 89, 4]       5  ...     0       0.000076\n",
              "2   [98, 82, 30, 35, 3]       5  ...     0       0.000067\n",
              "3  [58, 65, 38, 71, 78]       5  ...     0       0.000057\n",
              "4  [23, 25, 54, 29, 59]       5  ...     0       0.000073\n",
              "\n",
              "[5 rows x 9 columns]"
            ]
          },
          "metadata": {
            "tags": []
          },
          "execution_count": 8
        }
      ]
    },
    {
      "cell_type": "code",
      "metadata": {
        "id": "SKyptRMgAfg0",
        "colab_type": "code",
        "colab": {}
      },
      "source": [
        "#GET  range100_success_rates_table and take snapshot, put in latex as figure\n",
        "n_samples=50\n",
        "range100_success_rates_table=df_range100.groupby(['setSize', 'e'])['isSuccess'].sum().divide(n_samples).unstack()"
      ],
      "execution_count": 0,
      "outputs": []
    },
    {
      "cell_type": "code",
      "metadata": {
        "id": "Tw_8HNFmlFNl",
        "colab_type": "code",
        "outputId": "e3e83962-9496-498f-845e-bcb2939708b8",
        "colab": {
          "base_uri": "https://localhost:8080/",
          "height": 493
        }
      },
      "source": [
        "#GET SUCCESS RATES \n",
        "import matplotlib.pyplot as plt\n",
        "\n",
        "fig, ax = plt.subplots(figsize=(15,7))\n",
        "n_samples=50\n",
        "df_range100.groupby(['setSize', 'e'])['isSuccess'].sum().divide(n_samples).unstack().plot(ax=ax,linestyle='-', marker='o')\n",
        "fig.suptitle('Success Rates ( number range:[1,100], setSizes:{5,10,20,40,80} ) ', fontsize=20)\n",
        "fig.savefig(\"success_rate_graph_range100.png\")"
      ],
      "execution_count": 0,
      "outputs": [
        {
          "output_type": "display_data",
          "data": {
            "image/png": "[encoded data removed]",
            "text/plain": [
              "<Figure size 1080x504 with 1 Axes>"
            ]
          },
          "metadata": {
            "tags": []
          }
        }
      ]
    },
    {
      "cell_type": "code",
      "metadata": {
        "id": "ADCp3ORZPbnf",
        "colab_type": "code",
        "colab": {}
      },
      "source": [
        "#Find the desired t-score depending on the Confidence Level desired to build\n",
        "\n",
        "from scipy.stats import t\n",
        "dof=50-1 # n=50 for our experiments\n",
        "alpha = 0.025 # means we construct a %95 CI (2-sided )\n",
        "#alpha = 0.05 # means we construct a %90 CI (2-sided )\n",
        "t_score=t.ppf(1 - alpha, df=dof) \n",
        "\n",
        "#Getting CI tables for a given t-score\n",
        "df_mean= df_range100.groupby(['setSize', 'e'])['execution_time'].mean().unstack() \n",
        "df_est_std_error= df_range100.groupby(['setSize', 'e'])['execution_time'].std().divide(np.sqrt(n_samples)).unstack()\n",
        "upper_95= df_mean + df_est_std_error.multiply(t_score)\n",
        "lower_95= df_mean - df_est_std_error.multiply(t_score)\n",
        "CI_95_range100=lower_95.round(5).astype(str).add('-').add(upper_95.round(5).astype(str))\n",
        "CI_95_range100"
      ],
      "execution_count": 0,
      "outputs": []
    },
    {
      "cell_type": "code",
      "metadata": {
        "colab_type": "code",
        "id": "jI7lk0Iyh4ri",
        "outputId": "4d824ba5-3290-4945-af27-785dc503ffc9",
        "colab": {
          "base_uri": "https://localhost:8080/",
          "height": 320
        }
      },
      "source": [
        ""
      ],
      "execution_count": 0,
      "outputs": [
        {
          "output_type": "execute_result",
          "data": {
            "text/html": [
              "<div>\n",
              "<style scoped>\n",
              "    .dataframe tbody tr th:only-of-type {\n",
              "        vertical-align: middle;\n",
              "    }\n",
              "\n",
              "    .dataframe tbody tr th {\n",
              "        vertical-align: top;\n",
              "    }\n",
              "\n",
              "    .dataframe thead th {\n",
              "        text-align: right;\n",
              "    }\n",
              "</style>\n",
              "<table border=\"1\" class=\"dataframe\">\n",
              "  <thead>\n",
              "    <tr style=\"text-align: right;\">\n",
              "      <th>e</th>\n",
              "      <th>0.0</th>\n",
              "      <th>0.1</th>\n",
              "      <th>0.2</th>\n",
              "      <th>0.3</th>\n",
              "      <th>0.4</th>\n",
              "      <th>0.5</th>\n",
              "      <th>0.6</th>\n",
              "      <th>0.7</th>\n",
              "      <th>0.8</th>\n",
              "      <th>0.9</th>\n",
              "    </tr>\n",
              "    <tr>\n",
              "      <th>setSize</th>\n",
              "      <th></th>\n",
              "      <th></th>\n",
              "      <th></th>\n",
              "      <th></th>\n",
              "      <th></th>\n",
              "      <th></th>\n",
              "      <th></th>\n",
              "      <th></th>\n",
              "      <th></th>\n",
              "      <th></th>\n",
              "    </tr>\n",
              "  </thead>\n",
              "  <tbody>\n",
              "    <tr>\n",
              "      <th>5</th>\n",
              "      <td>7e-05-8e-05</td>\n",
              "      <td>7e-05-8e-05</td>\n",
              "      <td>7e-05-9e-05</td>\n",
              "      <td>7e-05-8e-05</td>\n",
              "      <td>7e-05-8e-05</td>\n",
              "      <td>6e-05-7e-05</td>\n",
              "      <td>6e-05-7e-05</td>\n",
              "      <td>6e-05-7e-05</td>\n",
              "      <td>6e-05-7e-05</td>\n",
              "      <td>6e-05-7e-05</td>\n",
              "    </tr>\n",
              "    <tr>\n",
              "      <th>10</th>\n",
              "      <td>0.00084-0.00109</td>\n",
              "      <td>0.00075-0.00095</td>\n",
              "      <td>0.00059-0.00072</td>\n",
              "      <td>0.0005-0.0006</td>\n",
              "      <td>0.0005-0.00056</td>\n",
              "      <td>0.00043-0.0005</td>\n",
              "      <td>0.00041-0.00046</td>\n",
              "      <td>0.00036-0.00041</td>\n",
              "      <td>0.00032-0.00037</td>\n",
              "      <td>0.00035-0.00041</td>\n",
              "    </tr>\n",
              "    <tr>\n",
              "      <th>20</th>\n",
              "      <td>0.00811-0.01059</td>\n",
              "      <td>0.00679-0.00872</td>\n",
              "      <td>0.00601-0.00711</td>\n",
              "      <td>0.00448-0.00537</td>\n",
              "      <td>0.00379-0.00448</td>\n",
              "      <td>0.00329-0.0037</td>\n",
              "      <td>0.0028-0.00324</td>\n",
              "      <td>0.00249-0.00288</td>\n",
              "      <td>0.00234-0.00267</td>\n",
              "      <td>0.0022-0.00252</td>\n",
              "    </tr>\n",
              "    <tr>\n",
              "      <th>40</th>\n",
              "      <td>0.04068-0.05368</td>\n",
              "      <td>0.03664-0.04759</td>\n",
              "      <td>0.03431-0.03879</td>\n",
              "      <td>0.02348-0.02857</td>\n",
              "      <td>0.02123-0.02476</td>\n",
              "      <td>0.01874-0.0214</td>\n",
              "      <td>0.01576-0.01816</td>\n",
              "      <td>0.01437-0.01658</td>\n",
              "      <td>0.01359-0.01515</td>\n",
              "      <td>0.01218-0.01373</td>\n",
              "    </tr>\n",
              "    <tr>\n",
              "      <th>80</th>\n",
              "      <td>0.21281-0.26214</td>\n",
              "      <td>0.16794-0.21044</td>\n",
              "      <td>0.13097-0.15808</td>\n",
              "      <td>0.11127-0.13228</td>\n",
              "      <td>0.09851-0.11186</td>\n",
              "      <td>0.07578-0.09238</td>\n",
              "      <td>0.07597-0.08782</td>\n",
              "      <td>0.06655-0.07797</td>\n",
              "      <td>0.06234-0.07116</td>\n",
              "      <td>0.06069-0.06689</td>\n",
              "    </tr>\n",
              "  </tbody>\n",
              "</table>\n",
              "</div>"
            ],
            "text/plain": [
              "e                    0.0              0.1  ...              0.8              0.9\n",
              "setSize                                    ...                                  \n",
              "5            7e-05-8e-05      7e-05-8e-05  ...      6e-05-7e-05      6e-05-7e-05\n",
              "10       0.00084-0.00109  0.00075-0.00095  ...  0.00032-0.00037  0.00035-0.00041\n",
              "20       0.00811-0.01059  0.00679-0.00872  ...  0.00234-0.00267   0.0022-0.00252\n",
              "40       0.04068-0.05368  0.03664-0.04759  ...  0.01359-0.01515  0.01218-0.01373\n",
              "80       0.21281-0.26214  0.16794-0.21044  ...  0.06234-0.07116  0.06069-0.06689\n",
              "\n",
              "[5 rows x 10 columns]"
            ]
          },
          "metadata": {
            "tags": []
          },
          "execution_count": 12
        }
      ]
    },
    {
      "cell_type": "code",
      "metadata": {
        "id": "v3FASyR0ismD",
        "colab_type": "code",
        "outputId": "255c8bf9-f400-4e02-ca0f-7a693d852513",
        "colab": {
          "base_uri": "https://localhost:8080/",
          "height": 493
        }
      },
      "source": [
        "#GET MEAN EXEC TIME GRAPH\n",
        "import matplotlib.pyplot as plt\n",
        "\n",
        "fig, ax = plt.subplots(figsize=(15,7))\n",
        "n_samples=50\n",
        "df_range100.groupby(['setSize', 'e'])['execution_time'].mean().unstack().plot(ax=ax,linestyle='-', marker='o')\n",
        "fig.suptitle('Mean Exec Time (in sec) ( number range:[1,100], setSizes:{5,10,20,40,80} ) ', fontsize=20)\n",
        "fig.savefig(\"mean_exec_time_graph_range100.png\")"
      ],
      "execution_count": 0,
      "outputs": [
        {
          "output_type": "display_data",
          "data": {
            "image/png": "[encoded data removed]",
            "text/plain": [
              "<Figure size 1080x504 with 1 Axes>"
            ]
          },
          "metadata": {
            "tags": []
          }
        }
      ]
    },
    {
      "cell_type": "code",
      "metadata": {
        "id": "-17Ovbz4DaQw",
        "colab_type": "code",
        "colab": {}
      },
      "source": [
        "#range [1,10000]\n",
        "df_50_5_10000= correctnessforSList(sets_50_5_10000)# 50 set with |S|=5 and in range [1,10000]\n",
        "df_50_10_10000= correctnessforSList(sets_50_10_10000)# 50 set with |S|=10 and in range [1,10000]\n",
        "\n",
        "\n"
      ],
      "execution_count": 0,
      "outputs": []
    },
    {
      "cell_type": "code",
      "metadata": {
        "id": "XJtpSsBAz9Xx",
        "colab_type": "code",
        "colab": {}
      },
      "source": [
        "df_50_20_10000= correctnessforSList(sets_50_20_10000)# 50 set with |S|=20 and in range [1,10000]\n",
        "df_50_100_10000= correctnessforSList(sets_50_100_10000) # 50 set with |S|=100 and in range [1,10000]\n",
        "\n"
      ],
      "execution_count": 0,
      "outputs": []
    },
    {
      "cell_type": "code",
      "metadata": {
        "id": "LTrGHzh9dVZ2",
        "colab_type": "code",
        "colab": {}
      },
      "source": [
        "df_50_1000_10000= correctnessforSList(sets_50_1000_10000) # 50 set with |S|=100 and in range [1,10000]"
      ],
      "execution_count": 0,
      "outputs": []
    },
    {
      "cell_type": "code",
      "metadata": {
        "id": "WDUjlkfr0DwU",
        "colab_type": "code",
        "colab": {}
      },
      "source": [
        "df_range10000 =pd.DataFrame(columns=['S', 'setSize','setSize','subset', 't','e', 'approx', 'isSuccess','error','execution_time'])\n",
        "df_range10000_list=[df_50_5_10000,df_50_10_10000,df_50_20_10000,df_50_100_10000,df_50_1000_10000]\n",
        "\n",
        "for df in df_range10000_list:\n",
        "  df_range10000=df_range10000.append(df)\n",
        "df_range10000.to_excel(\"df_range10000.xlsx\")\n",
        "#df_range10000 is ready for std mean runtime analysis and creating a crosstab for correctness analysis"
      ],
      "execution_count": 0,
      "outputs": []
    },
    {
      "cell_type": "markdown",
      "metadata": {
        "id": "4sYIYagT7xLI",
        "colab_type": "text"
      },
      "source": [
        "df_range10000"
      ]
    },
    {
      "cell_type": "code",
      "metadata": {
        "id": "8ETOC6E97yOW",
        "colab_type": "code",
        "colab": {}
      },
      "source": [
        "df_range10000.head()"
      ],
      "execution_count": 0,
      "outputs": []
    },
    {
      "cell_type": "markdown",
      "metadata": {
        "id": "lEpIluTyv-Ji",
        "colab_type": "text"
      },
      "source": [
        "Doing same analysis for range [1,1000] "
      ]
    },
    {
      "cell_type": "code",
      "metadata": {
        "id": "_7JtH3bq952d",
        "colab_type": "code",
        "colab": {}
      },
      "source": [
        "#range [1,1000]\n",
        "df_50_5_1000= correctnessforSList(sets_50_5_1000) # error rate, isSuccess result, exec_time, approx result for given set\n",
        "df_50_10_1000= correctnessforSList(sets_50_10_1000)\n",
        "df_50_20_1000= correctnessforSList(sets_50_20_1000)\n",
        "df_50_100_1000= correctnessforSList(sets_50_100_1000) \n",
        "\n",
        "df_range1000_list=[df_50_5_1000,df_50_10_1000,df_50_20_1000,df_50_100_1000]\n",
        "df_range1000 =pd.DataFrame(columns=['S', 'setSize','subset', 't','e', 'approx', 'isSuccess','error','execution_time'])\n",
        "\n",
        "for df in df_range1000_list:\n",
        "  df_range1000=df_range1000.append(df)"
      ],
      "execution_count": 0,
      "outputs": []
    },
    {
      "cell_type": "markdown",
      "metadata": {
        "id": "WaZ1Uy2EruqX",
        "colab_type": "text"
      },
      "source": [
        "Doing same analysis for range [1,1000]"
      ]
    }
  ]
}